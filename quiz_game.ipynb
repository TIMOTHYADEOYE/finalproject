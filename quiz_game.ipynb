{
 "cells": [
  {
   "cell_type": "code",
   "execution_count": 7,
   "id": "ddf77c49-43cf-41be-aed0-5c8a6971cf24",
   "metadata": {},
   "outputs": [
    {
     "name": "stdout",
     "output_type": "stream",
     "text": [
      "WELCOME TO OUR FINAL PROJECT EXERCISE  \n",
      " \n",
      "\n"
     ]
    },
    {
     "name": "stdout",
     "output_type": "stream",
     "text": [
      "Are you ready to give it a try?  ys\n",
      "whats does CPU stand for?  \n"
     ]
    },
    {
     "name": "stdout",
     "output_type": "stream",
     "text": [
      "incorrect!\n"
     ]
    },
    {
     "name": "stdout",
     "output_type": "stream",
     "text": [
      "ask questions1?  \n"
     ]
    },
    {
     "name": "stdout",
     "output_type": "stream",
     "text": [
      "incorrect!\n"
     ]
    },
    {
     "name": "stdout",
     "output_type": "stream",
     "text": [
      "ask questions2?  \n"
     ]
    },
    {
     "name": "stdout",
     "output_type": "stream",
     "text": [
      "incorrect!\n"
     ]
    },
    {
     "name": "stdout",
     "output_type": "stream",
     "text": [
      "ask questions3?  \n"
     ]
    },
    {
     "name": "stdout",
     "output_type": "stream",
     "text": [
      "incorrect!\n"
     ]
    },
    {
     "name": "stdout",
     "output_type": "stream",
     "text": [
      "ask questions4?  \n"
     ]
    },
    {
     "name": "stdout",
     "output_type": "stream",
     "text": [
      "incorrect!\n"
     ]
    },
    {
     "name": "stdout",
     "output_type": "stream",
     "text": [
      "ask questions5?  \n"
     ]
    },
    {
     "name": "stdout",
     "output_type": "stream",
     "text": [
      "incorrect!\n",
      "you got 0questions correct!\n"
     ]
    }
   ],
   "source": [
    "print(\"WELCOME TO OUR FINAL PROJECT EXERCISE  \\n \\n\")\n",
    "\n",
    "playing = input(\"Are you ready to give it a try? \")\n",
    "if playing == \"yes\":\n",
    "    print(\"Okay! Let's play :)\")\n",
    "    \n",
    "else:\n",
    "    quit()\n",
    "score = 0\n",
    "\n",
    "def ct():\n",
    "    print(\"correct!\")\n",
    "    \n",
    "def it():\n",
    "    print(\"incorrect!\")\n",
    "\n",
    "                \n",
    "answer = input(\"whats does CPU stand for? \")\n",
    "if answer == \"central processing unit\":\n",
    "                ct()\n",
    "                score +=1\n",
    "else:\n",
    "                it()\n",
    "        \n",
    "        \n",
    "        \n",
    "answer = input(\"ask questions1? \")\n",
    "if answer == \"central processing unit\":\n",
    "                ct()\n",
    "                score +=1\n",
    "else:\n",
    "    \n",
    "                print(\"incorrect!\")\n",
    "        \n",
    "        \n",
    "        \n",
    "\n",
    "        \n",
    "        \n",
    "        \n",
    "        \n",
    "answer = input(\"ask questions2? \")\n",
    "if answer == \"type answer\":\n",
    "                ct()\n",
    "                score +=1\n",
    "else:\n",
    "                it()\n",
    "        \n",
    "        \n",
    "        \n",
    "        \n",
    "answer = input(\"ask questions3? \")\n",
    "if answer == \"type answer\":\n",
    "                ct()\n",
    "                score +=1\n",
    "else:\n",
    "                it()\n",
    "\n",
    "        \n",
    "        \n",
    "        \n",
    "answer = input(\"ask questions4? \")\n",
    "if answer == \"central processing unit\":\n",
    "                ct()\n",
    "                score +=1\n",
    "else:\n",
    "                it()\n",
    "        \n",
    "        \n",
    "        \n",
    "        \n",
    "        \n",
    "answer = input(\"ask questions5? \")\n",
    "if answer == \"central processing unit\":\n",
    "                ct()\n",
    "                score +=1\n",
    "else:\n",
    "                it()\n",
    "        \n",
    "                \n",
    "print(\"you got \" + str(score)  + \"questions correct!\")\n"
   ]
  },
  {
   "cell_type": "code",
   "execution_count": null,
   "id": "711a39f9-c93d-4ff2-8c6a-d17db4b47eb4",
   "metadata": {},
   "outputs": [],
   "source": []
  },
  {
   "cell_type": "code",
   "execution_count": null,
   "id": "d81ad558-0332-4dbd-b08b-8bcee74cf2b5",
   "metadata": {},
   "outputs": [],
   "source": []
  }
 ],
 "metadata": {
  "kernelspec": {
   "display_name": "Python 3 (ipykernel)",
   "language": "python",
   "name": "python3"
  },
  "language_info": {
   "codemirror_mode": {
    "name": "ipython",
    "version": 3
   },
   "file_extension": ".py",
   "mimetype": "text/x-python",
   "name": "python",
   "nbconvert_exporter": "python",
   "pygments_lexer": "ipython3",
   "version": "3.9.7"
  }
 },
 "nbformat": 4,
 "nbformat_minor": 5
}
